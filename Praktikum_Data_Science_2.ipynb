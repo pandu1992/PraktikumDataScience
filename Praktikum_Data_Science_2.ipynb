{
  "nbformat": 4,
  "nbformat_minor": 0,
  "metadata": {
    "colab": {
      "provenance": [],
      "authorship_tag": "ABX9TyOjM85Hke2bvMo4ivbxRnEK",
      "include_colab_link": true
    },
    "kernelspec": {
      "name": "python3",
      "display_name": "Python 3"
    },
    "language_info": {
      "name": "python"
    }
  },
  "cells": [
    {
      "cell_type": "markdown",
      "metadata": {
        "id": "view-in-github",
        "colab_type": "text"
      },
      "source": [
        "<a href=\"https://colab.research.google.com/github/pandu1992/PraktikumDataScience/blob/main/Praktikum_Data_Science_2.ipynb\" target=\"_parent\"><img src=\"https://colab.research.google.com/assets/colab-badge.svg\" alt=\"Open In Colab\"/></a>"
      ]
    },
    {
      "cell_type": "code",
      "execution_count": 1,
      "metadata": {
        "colab": {
          "base_uri": "https://localhost:8080/"
        },
        "id": "z6F7_04h6W3d",
        "outputId": "2173512a-e015-4745-8c73-8efacc26f661"
      },
      "outputs": [
        {
          "output_type": "stream",
          "name": "stdout",
          "text": [
            "Dataframe awal:\n",
            "  InvoiceNo StockCode                          Description  Quantity  \\\n",
            "0    536365    85123A   WHITE HANGING HEART T-LIGHT HOLDER         6   \n",
            "1    536365     71053                  WHITE METAL LANTERN         6   \n",
            "2    536365    84406B       CREAM CUPID HEARTS COAT HANGER         8   \n",
            "3    536365    84029G  KNITTED UNION FLAG HOT WATER BOTTLE         6   \n",
            "4    536365    84029E       RED WOOLLY HOTTIE WHITE HEART.         6   \n",
            "\n",
            "      InvoiceDate  UnitPrice  CustomerID         Country  \n",
            "0  12/1/2010 8:26       2.55     17850.0  United Kingdom  \n",
            "1  12/1/2010 8:26       3.39     17850.0  United Kingdom  \n",
            "2  12/1/2010 8:26       2.75     17850.0  United Kingdom  \n",
            "3  12/1/2010 8:26       3.39     17850.0  United Kingdom  \n",
            "4  12/1/2010 8:26       3.39     17850.0  United Kingdom  \n",
            "\n",
            "Deskripsi Statistik:\n",
            "            Quantity      UnitPrice     CustomerID\n",
            "count  541909.000000  541909.000000  406829.000000\n",
            "mean        9.552250       4.611114   15287.690570\n",
            "std       218.081158      96.759853    1713.600303\n",
            "min    -80995.000000  -11062.060000   12346.000000\n",
            "25%         1.000000       1.250000   13953.000000\n",
            "50%         3.000000       2.080000   15152.000000\n",
            "75%        10.000000       4.130000   16791.000000\n",
            "max     80995.000000   38970.000000   18287.000000\n",
            "\n",
            "Cek nilai yang hilang:\n",
            "InvoiceNo           0\n",
            "StockCode           0\n",
            "Description      1454\n",
            "Quantity            0\n",
            "InvoiceDate         0\n",
            "UnitPrice           0\n",
            "CustomerID     135080\n",
            "Country             0\n",
            "dtype: int64\n",
            "\n",
            "Data dengan fitur baru 'TotalPurchase':\n",
            "   Quantity  UnitPrice  TotalPurchase\n",
            "0         6       2.55          15.30\n",
            "1         6       3.39          20.34\n",
            "2         8       2.75          22.00\n",
            "3         6       3.39          20.34\n",
            "4         6       3.39          20.34\n",
            "\n",
            "Dataset setelah preprocessing:\n",
            "  InvoiceNo StockCode                          Description  Quantity  \\\n",
            "0    536365    85123A   WHITE HANGING HEART T-LIGHT HOLDER         6   \n",
            "1    536365     71053                  WHITE METAL LANTERN         6   \n",
            "2    536365    84406B       CREAM CUPID HEARTS COAT HANGER         8   \n",
            "3    536365    84029G  KNITTED UNION FLAG HOT WATER BOTTLE         6   \n",
            "4    536365    84029E       RED WOOLLY HOTTIE WHITE HEART.         6   \n",
            "\n",
            "      InvoiceDate  UnitPrice  CustomerID  TotalPurchase  Country_Austria  \\\n",
            "0  12/1/2010 8:26       2.55     17850.0          15.30            False   \n",
            "1  12/1/2010 8:26       3.39     17850.0          20.34            False   \n",
            "2  12/1/2010 8:26       2.75     17850.0          22.00            False   \n",
            "3  12/1/2010 8:26       3.39     17850.0          20.34            False   \n",
            "4  12/1/2010 8:26       3.39     17850.0          20.34            False   \n",
            "\n",
            "   Country_Bahrain  ...  Country_RSA  Country_Saudi Arabia  Country_Singapore  \\\n",
            "0            False  ...        False                 False              False   \n",
            "1            False  ...        False                 False              False   \n",
            "2            False  ...        False                 False              False   \n",
            "3            False  ...        False                 False              False   \n",
            "4            False  ...        False                 False              False   \n",
            "\n",
            "   Country_Spain  Country_Sweden  Country_Switzerland  Country_USA  \\\n",
            "0          False           False                False        False   \n",
            "1          False           False                False        False   \n",
            "2          False           False                False        False   \n",
            "3          False           False                False        False   \n",
            "4          False           False                False        False   \n",
            "\n",
            "   Country_United Arab Emirates  Country_United Kingdom  Country_Unspecified  \n",
            "0                         False                    True                False  \n",
            "1                         False                    True                False  \n",
            "2                         False                    True                False  \n",
            "3                         False                    True                False  \n",
            "4                         False                    True                False  \n",
            "\n",
            "[5 rows x 45 columns]\n"
          ]
        }
      ],
      "source": [
        "# Soal 1: Eksplorasi Data dan Preprocessing\n",
        "import pandas as pd\n",
        "import numpy as np\n",
        "\n",
        "# Load dataset dari GitHub\n",
        "url = \"https://github.com/databricks/Spark-The-Definitive-Guide/blob/master/data/retail-data/all/online-retail-dataset.csv?raw=true\"\n",
        "data = pd.read_csv(url)\n",
        "\n",
        "# Tampilkan 5 baris pertama\n",
        "print(\"Dataframe awal:\")\n",
        "print(data.head())\n",
        "\n",
        "# Deskripsi statistik\n",
        "print(\"\\nDeskripsi Statistik:\")\n",
        "print(data.describe())\n",
        "\n",
        "# Cek nilai yang hilang\n",
        "print(\"\\nCek nilai yang hilang:\")\n",
        "print(data.isnull().sum())\n",
        "\n",
        "# Buat fitur baru 'TotalPurchase'\n",
        "data['TotalPurchase'] = data['Quantity'] * data['UnitPrice']\n",
        "print(\"\\nData dengan fitur baru 'TotalPurchase':\")\n",
        "print(data[['Quantity', 'UnitPrice', 'TotalPurchase']].head())\n",
        "\n",
        "# Ubah variabel kategorikal menjadi dummy variables\n",
        "data_dummies = pd.get_dummies(data, columns=['Country'], drop_first=True)\n",
        "print(\"\\nDataset setelah preprocessing:\")\n",
        "print(data_dummies.head())\n"
      ]
    },
    {
      "cell_type": "code",
      "source": [
        "from sklearn.model_selection import train_test_split\n",
        "from sklearn.linear_model import LinearRegression\n",
        "from sklearn.metrics import mean_squared_error\n",
        "\n",
        "# Pilih variabel target dan fitur\n",
        "X = data_dummies[['Quantity', 'UnitPrice'] + [col for col in data_dummies.columns if 'Country' in col]]\n",
        "y = data_dummies[\"TotalPurchase\"]\n",
        "\n",
        "# Bagi dataset menjadi training dan testing set\n",
        "X_train, X_test, y_train, y_test = train_test_split(X, y, test_size=0.2, random_state=42)\n",
        "\n",
        "# Buat dan latih model Linear Regression\n",
        "model = LinearRegression()\n",
        "model.fit(X_train, y_train)\n",
        "\n",
        "# Prediksi dan evaluasi\n",
        "y_pred = model.predict(X_test)\n",
        "mse = mean_squared_error(y_test, y_pred)\n",
        "print(f\"Mean Squared Error (MSE) untuk Linear Regression: {mse}\")\n"
      ],
      "metadata": {
        "colab": {
          "base_uri": "https://localhost:8080/"
        },
        "id": "Q6q_IRET6edw",
        "outputId": "19241295-435a-42ac-b4e0-e9fa6ede7bd3"
      },
      "execution_count": 2,
      "outputs": [
        {
          "output_type": "stream",
          "name": "stdout",
          "text": [
            "Mean Squared Error (MSE) untuk Linear Regression: 50451.5360739058\n"
          ]
        }
      ]
    },
    {
      "cell_type": "code",
      "source": [
        "from sklearn.neighbors import KNeighborsClassifier\n",
        "from sklearn.metrics import accuracy_score, confusion_matrix\n",
        "\n",
        "# Buat variabel target biner\n",
        "y_binary = (data_dummies[\"TotalPurchase\"] > 1000).astype(int)\n",
        "\n",
        "# Bagi dataset menjadi training dan testing set\n",
        "X_train_clf, X_test_clf, y_train_clf, y_test_clf = train_test_split(X, y_binary, test_size=0.2, random_state=42)\n",
        "\n",
        "# Buat model K-Nearest Neighbors\n",
        "knn_model = KNeighborsClassifier(n_neighbors=5)\n",
        "knn_model.fit(X_train_clf, y_train_clf)\n",
        "\n",
        "# Prediksi dan evaluasi\n",
        "y_pred_knn = knn_model.predict(X_test_clf)\n",
        "accuracy_knn = accuracy_score(y_test_clf, y_pred_knn)\n",
        "conf_matrix_knn = confusion_matrix(y_test_clf, y_pred_knn)\n",
        "\n",
        "print(f\"Accuracy untuk KNN: {accuracy_knn}\")\n",
        "print(f\"Confusion Matrix untuk KNN:\\n{conf_matrix_knn}\")\n"
      ],
      "metadata": {
        "colab": {
          "base_uri": "https://localhost:8080/"
        },
        "id": "-paV6Qm26ndO",
        "outputId": "7075440f-3675-482a-d310-7a5035a4f987"
      },
      "execution_count": 3,
      "outputs": [
        {
          "output_type": "stream",
          "name": "stdout",
          "text": [
            "Accuracy untuk KNN: 0.9995109889095976\n",
            "Confusion Matrix untuk KNN:\n",
            "[[108286     19]\n",
            " [    34     43]]\n"
          ]
        }
      ]
    },
    {
      "cell_type": "code",
      "source": [
        "from sklearn.neural_network import MLPClassifier\n",
        "\n",
        "# Buat model Neural Network\n",
        "nn_model = MLPClassifier(hidden_layer_sizes=(50, 50), max_iter=300, random_state=42)\n",
        "nn_model.fit(X_train_clf, y_train_clf)\n",
        "\n",
        "# Prediksi dan evaluasi\n",
        "y_pred_nn = nn_model.predict(X_test_clf)\n",
        "accuracy_nn = accuracy_score(y_test_clf, y_pred_nn)\n",
        "print(f\"Accuracy untuk Neural Network: {accuracy_nn}\")\n"
      ],
      "metadata": {
        "colab": {
          "base_uri": "https://localhost:8080/"
        },
        "id": "kcIEnDy86v0E",
        "outputId": "90e7c1d7-1433-4ce1-8eb4-c8d7576f038d"
      },
      "execution_count": 5,
      "outputs": [
        {
          "output_type": "stream",
          "name": "stdout",
          "text": [
            "Accuracy untuk Neural Network: 0.9997785610156668\n"
          ]
        }
      ]
    },
    {
      "cell_type": "code",
      "source": [
        "from sklearn.tree import DecisionTreeClassifier, plot_tree\n",
        "import matplotlib.pyplot as plt\n",
        "\n",
        "# Buat model Decision Tree\n",
        "tree_model = DecisionTreeClassifier(random_state=42)\n",
        "tree_model.fit(X_train_clf, y_train_clf)\n",
        "\n",
        "# Prediksi dan evaluasi\n",
        "y_pred_tree = tree_model.predict(X_test_clf)\n",
        "accuracy_tree = accuracy_score(y_test_clf, y_pred_tree)\n",
        "print(f\"Accuracy untuk Decision Tree: {accuracy_tree}\")\n",
        "\n",
        "# Visualisasikan Decision Tree\n",
        "plt.figure(figsize=(15, 10))\n",
        "plot_tree(tree_model, feature_names=X_train_clf.columns, class_names=[\"Below 1000\", \"Above 1000\"], filled=True)\n",
        "plt.show()\n"
      ],
      "metadata": {
        "id": "uwm2JNMX68Q9"
      },
      "execution_count": null,
      "outputs": []
    },
    {
      "cell_type": "code",
      "source": [
        "from sklearn.naive_bayes import GaussianNB\n",
        "from sklearn.metrics import classification_report\n",
        "\n",
        "# Buat model Naïve Bayesian\n",
        "nb_model = GaussianNB()\n",
        "nb_model.fit(X_train_clf, y_train_clf)\n",
        "\n",
        "# Prediksi dan evaluasi\n",
        "y_pred_nb = nb_model.predict(X_test_clf)\n",
        "accuracy_nb = accuracy_score(y_test_clf, y_pred_nb)\n",
        "print(f\"Accuracy untuk Naïve Bayesian: {accuracy_nb}\")\n",
        "\n",
        "# Classification report\n",
        "print(\"Classification Report untuk Naïve Bayesian:\")\n",
        "print(classification_report(y_test_clf, y_pred_nb, target_names=[\"Below 1000\", \"Above 1000\"]))\n"
      ],
      "metadata": {
        "colab": {
          "base_uri": "https://localhost:8080/"
        },
        "id": "vXoikQhr7DOn",
        "outputId": "def1ebb5-d59e-4582-b5a1-cdcdf46375cf"
      },
      "execution_count": 4,
      "outputs": [
        {
          "output_type": "stream",
          "name": "stdout",
          "text": [
            "Accuracy untuk Naïve Bayesian: 0.040135815910391025\n",
            "Classification Report untuk Naïve Bayesian:\n",
            "              precision    recall  f1-score   support\n",
            "\n",
            "  Below 1000       1.00      0.04      0.08    108305\n",
            "  Above 1000       0.00      0.99      0.00        77\n",
            "\n",
            "    accuracy                           0.04    108382\n",
            "   macro avg       0.50      0.51      0.04    108382\n",
            "weighted avg       1.00      0.04      0.08    108382\n",
            "\n"
          ]
        }
      ]
    }
  ]
}