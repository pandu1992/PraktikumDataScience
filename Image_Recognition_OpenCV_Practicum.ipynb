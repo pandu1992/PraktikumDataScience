{
  "cells": [
    {
      "cell_type": "markdown",
      "metadata": {
        "id": "view-in-github",
        "colab_type": "text"
      },
      "source": [
        "<a href=\"https://colab.research.google.com/github/pandu1992/PraktikumDataScience/blob/main/Image_Recognition_OpenCV_Practicum.ipynb\" target=\"_parent\"><img src=\"https://colab.research.google.com/assets/colab-badge.svg\" alt=\"Open In Colab\"/></a>"
      ]
    },
    {
      "cell_type": "markdown",
      "metadata": {
        "id": "vMJek3wlIIMM"
      },
      "source": [
        "# Praktikum Vicon 3.1 - Image Recognition with OpenCV\n",
        "### Learning Outcome:\n",
        "(C6) Create: Formulate practical experience in AI algorithms and systems using programming tools\n",
        "### Subtopic:\n",
        "- Image Loading\n",
        "- Image Augmentation with OpenCV\n",
        "- Image Processing\n",
        "- Visualization of Prediction Results\n"
      ]
    },
    {
      "cell_type": "markdown",
      "metadata": {
        "id": "8bMlnz6UIIMN"
      },
      "source": [
        "## Step 1: Setup Environment and Download Dataset"
      ]
    },
    {
      "cell_type": "code",
      "metadata": {
        "id": "51XiEw02IIMO"
      },
      "source": [
        "!wget https://github.com/luangtatipsy/intel-image-classification/archive/refs/heads/master.zip -O intel-image-classification.zip\n",
        "!unzip intel-image-classification.zip -d /content/\n",
        "train_dir = '/content/intel-image-classification-master/datasets/seg_train'\n",
        "test_dir = '/content/intel-image-classification-master/datasets/seg_test'\n"
      ],
      "execution_count": null,
      "outputs": []
    },
    {
      "cell_type": "markdown",
      "metadata": {
        "id": "vKZ219_wIIMO"
      },
      "source": [
        "## Step 2: Image Loading and Display with OpenCV"
      ]
    },
    {
      "cell_type": "code",
      "metadata": {
        "id": "LO9ioYATIIMO"
      },
      "source": [
        "import cv2\n",
        "import matplotlib.pyplot as plt\n",
        "import os\n",
        "\n",
        "def load_and_display_image(img_path):\n",
        "    img = cv2.imread(img_path)\n",
        "    img = cv2.cvtColor(img, cv2.COLOR_BGR2RGB)\n",
        "    plt.imshow(img)\n",
        "    plt.axis('off')\n",
        "    plt.show()\n",
        "\n",
        "example_image = os.path.join(test_dir, 'buildings/0.jpg')\n",
        "load_and_display_image(example_image)\n"
      ],
      "execution_count": null,
      "outputs": []
    },
    {
      "cell_type": "markdown",
      "metadata": {
        "id": "51EJ5WslIIMO"
      },
      "source": [
        "## Step 3: Image Augmentation with OpenCV"
      ]
    },
    {
      "cell_type": "code",
      "metadata": {
        "id": "TZMajc7LIIMP"
      },
      "source": [
        "def augment_image(img_path):\n",
        "    img = cv2.imread(img_path)\n",
        "    img = cv2.cvtColor(img, cv2.COLOR_BGR2RGB)\n",
        "\n",
        "    flip_img = cv2.flip(img, 1)\n",
        "    (h, w) = img.shape[:2]\n",
        "    center = (w // 2, h // 2)\n",
        "    M = cv2.getRotationMatrix2D(center, 45, 1.0)\n",
        "    rotated_img = cv2.warpAffine(img, M, (w, h))\n",
        "    zoom_img = cv2.resize(img, None, fx=1.5, fy=1.5)\n",
        "\n",
        "    plt.figure(figsize=(12, 4))\n",
        "    plt.subplot(1, 3, 1); plt.imshow(flip_img); plt.title('Flip Horizontal')\n",
        "    plt.subplot(1, 3, 2); plt.imshow(rotated_img); plt.title('Rotated 45°')\n",
        "    plt.subplot(1, 3, 3); plt.imshow(zoom_img); plt.title('Zoomed In')\n",
        "    plt.show()\n",
        "\n",
        "augment_image(example_image)\n"
      ],
      "execution_count": null,
      "outputs": []
    },
    {
      "cell_type": "markdown",
      "metadata": {
        "id": "91aEGm_RIIMP"
      },
      "source": [
        "## Step 4: Image Prediction with OpenCV"
      ]
    },
    {
      "cell_type": "code",
      "metadata": {
        "id": "npZbuNcTIIMP"
      },
      "source": [
        "from tensorflow.keras.preprocessing import image\n",
        "import numpy as np\n",
        "import tensorflow as tf\n",
        "\n",
        "# Load model\n",
        "model = tf.keras.models.load_model('/content/vgg16_intel_image_classification.h5')\n",
        "class_names = ['buildings', 'forest', 'glacier', 'mountain', 'sea', 'street']\n",
        "\n",
        "def predict_image_with_opencv(img_path):\n",
        "    img = cv2.imread(img_path)\n",
        "    img = cv2.cvtColor(img, cv2.COLOR_BGR2RGB)\n",
        "    img = cv2.resize(img, (150, 150))\n",
        "    img_tensor = img / 255.0\n",
        "    img_tensor = np.expand_dims(img_tensor, axis=0)\n",
        "\n",
        "    prediction = model.predict(img_tensor)\n",
        "    predicted_class = class_names[np.argmax(prediction)]\n",
        "    confidence = float(np.max(prediction))\n",
        "\n",
        "    plt.imshow(img)\n",
        "    plt.title(f'Predicted: {predicted_class} | Confidence: {confidence:.2f}')\n",
        "    plt.axis('off')\n",
        "    plt.show()\n",
        "\n",
        "predict_image_with_opencv(example_image)\n"
      ],
      "execution_count": null,
      "outputs": []
    }
  ],
  "metadata": {
    "kernelspec": {
      "display_name": "Python 3",
      "language": "python",
      "name": "python3"
    },
    "language_info": {
      "codemirror_mode": {
        "name": "ipython",
        "version": 3
      },
      "file_extension": ".py",
      "mimetype": "text/x-python",
      "name": "python",
      "nbconvert_exporter": "python",
      "pygments_lexer": "ipython3",
      "version": "3.8"
    },
    "colab": {
      "provenance": [],
      "include_colab_link": true
    }
  },
  "nbformat": 4,
  "nbformat_minor": 0
}