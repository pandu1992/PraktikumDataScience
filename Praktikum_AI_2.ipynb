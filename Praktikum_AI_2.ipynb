{
  "nbformat": 4,
  "nbformat_minor": 0,
  "metadata": {
    "colab": {
      "provenance": [],
      "authorship_tag": "ABX9TyPYdsOpCEXk5wa+irOqt8KE",
      "include_colab_link": true
    },
    "kernelspec": {
      "name": "python3",
      "display_name": "Python 3"
    },
    "language_info": {
      "name": "python"
    }
  },
  "cells": [
    {
      "cell_type": "markdown",
      "metadata": {
        "id": "view-in-github",
        "colab_type": "text"
      },
      "source": [
        "<a href=\"https://colab.research.google.com/github/pandu1992/PraktikumDataScience/blob/main/Praktikum_AI_2.ipynb\" target=\"_parent\"><img src=\"https://colab.research.google.com/assets/colab-badge.svg\" alt=\"Open In Colab\"/></a>"
      ]
    },
    {
      "cell_type": "code",
      "execution_count": 2,
      "metadata": {
        "colab": {
          "base_uri": "https://localhost:8080/"
        },
        "id": "rn6oFwfHICA3",
        "outputId": "6eb440e9-c47e-49c0-9fb1-1846bd457e56"
      },
      "outputs": [
        {
          "output_type": "stream",
          "name": "stdout",
          "text": [
            "Collecting python-constraint\n",
            "  Downloading python-constraint-1.4.0.tar.bz2 (18 kB)\n",
            "  Preparing metadata (setup.py) ... \u001b[?25l\u001b[?25hdone\n",
            "Building wheels for collected packages: python-constraint\n",
            "  Building wheel for python-constraint (setup.py) ... \u001b[?25l\u001b[?25hdone\n",
            "  Created wheel for python-constraint: filename=python_constraint-1.4.0-py2.py3-none-any.whl size=24059 sha256=2da06bb6abe6eb3d3f364ca80f0007123eec1b444d786914c8ec2e28c5079273\n",
            "  Stored in directory: /root/.cache/pip/wheels/1e/af/a9/990ae7e6a78319b7d7afaab2d14e7e5ae349d5613db5ae28fd\n",
            "Successfully built python-constraint\n",
            "Installing collected packages: python-constraint\n",
            "Successfully installed python-constraint-1.4.0\n",
            "Jumlah solusi yang ditemukan: 18\n",
            "{'A': 'Hijau', 'B': 'Biru', 'C': 'Biru', 'D': 'Hijau'}\n",
            "{'A': 'Hijau', 'B': 'Biru', 'C': 'Biru', 'D': 'Merah'}\n",
            "{'A': 'Hijau', 'B': 'Biru', 'C': 'Merah', 'D': 'Hijau'}\n",
            "{'A': 'Hijau', 'B': 'Merah', 'C': 'Biru', 'D': 'Hijau'}\n",
            "{'A': 'Hijau', 'B': 'Merah', 'C': 'Merah', 'D': 'Biru'}\n"
          ]
        }
      ],
      "source": [
        "from IPython import get_ipython\n",
        "from IPython.display import display\n",
        "# %%\n",
        "!pip install python-constraint # Install the python-constraint package\n",
        "from constraint import Problem\n",
        "\n",
        "# Definisikan problem CSP\n",
        "problem = Problem()\n",
        "\n",
        "# Daftar wilayah dan batasannya\n",
        "wilayah = [\"A\", \"B\", \"C\", \"D\"]\n",
        "batasan = [(\"A\", \"B\"), (\"A\", \"C\"), (\"B\", \"D\"), (\"C\", \"D\")]\n",
        "\n",
        "# Warna yang tersedia\n",
        "warna = [\"Merah\", \"Biru\", \"Hijau\"]\n",
        "\n",
        "# Tambahkan variabel dengan domain warna\n",
        "for w in wilayah:\n",
        "    problem.addVariable(w, warna)\n",
        "\n",
        "# Tambahkan constraint: Wilayah yang berbatasan tidak boleh memiliki warna yang sama\n",
        "for w1, w2 in batasan:\n",
        "    problem.addConstraint(lambda c1, c2: c1 != c2, (w1, w2))\n",
        "\n",
        "# Cari solusi\n",
        "solusi = problem.getSolutions()\n",
        "print(f\"Jumlah solusi yang ditemukan: {len(solusi)}\")\n",
        "for sol in solusi[:5]:  # Tampilkan 5 solusi pertama\n",
        "    print(sol)"
      ]
    },
    {
      "cell_type": "code",
      "source": [
        "def diagnose_penyakit(gejala):\n",
        "    aturan = {\n",
        "        (\"demam\", \"batuk\"): \"Flu\",\n",
        "        (\"demam\", \"sesak napas\"): \"COVID-19\",\n",
        "        (\"sakit kepala\", \"mual\"): \"Migren\"\n",
        "    }\n",
        "\n",
        "    for key in aturan:\n",
        "        if set(gejala).issubset(set(key)):\n",
        "            return f\"Diagnosis: Kemungkinan Anda terkena {aturan[key]}\"\n",
        "\n",
        "    return \"Gejala tidak dikenali. Silakan konsultasi ke dokter.\"\n",
        "\n",
        "# Contoh penggunaan\n",
        "gejala_pasien = [\"demam\", \"batuk\"]\n",
        "print(diagnose_penyakit(gejala_pasien))\n"
      ],
      "metadata": {
        "colab": {
          "base_uri": "https://localhost:8080/"
        },
        "id": "h7Tc9lY5IzyK",
        "outputId": "79c476ef-24ad-45bf-9666-82730d54923c"
      },
      "execution_count": 3,
      "outputs": [
        {
          "output_type": "stream",
          "name": "stdout",
          "text": [
            "Diagnosis: Kemungkinan Anda terkena Flu\n"
          ]
        }
      ]
    },
    {
      "cell_type": "code",
      "source": [
        "from IPython import get_ipython\n",
        "from IPython.display import display\n",
        "# %%\n",
        "!pip install python-constraint # Install the python-constraint package\n",
        "from constraint import Problem\n",
        "\n",
        "# Definisikan problem CSP\n",
        "problem = Problem()\n",
        "\n",
        "# Daftar wilayah dan batasannya\n",
        "wilayah = [\"A\", \"B\", \"C\", \"D\"]\n",
        "batasan = [(\"A\", \"B\"), (\"A\", \"C\"), (\"B\", \"D\"), (\"C\", \"D\")]\n",
        "\n",
        "# Warna yang tersedia\n",
        "warna = [\"Merah\", \"Biru\", \"Hijau\"]\n",
        "\n",
        "# Tambahkan variabel dengan domain warna\n",
        "for w in wilayah:\n",
        "    problem.addVariable(w, warna)\n",
        "\n",
        "# Tambahkan constraint: Wilayah yang berbatasan tidak boleh memiliki warna yang sama\n",
        "for w1, w2 in batasan:\n",
        "    problem.addConstraint(lambda c1, c2: c1 != c2, (w1, w2))\n",
        "\n",
        "# Cari solusi\n",
        "solusi = problem.getSolutions()\n",
        "print(f\"Jumlah solusi yang ditemukan: {len(solusi)}\")\n",
        "for sol in solusi[:5]:  # Tampilkan 5 solusi pertama\n",
        "    print(sol)"
      ],
      "metadata": {
        "colab": {
          "base_uri": "https://localhost:8080/"
        },
        "id": "oKQJLKEyJOJN",
        "outputId": "5ea58091-3f31-4775-a304-55ed968178ba"
      },
      "execution_count": 4,
      "outputs": [
        {
          "output_type": "stream",
          "name": "stdout",
          "text": [
            "Requirement already satisfied: python-constraint in /usr/local/lib/python3.11/dist-packages (1.4.0)\n",
            "Jumlah solusi yang ditemukan: 18\n",
            "{'A': 'Hijau', 'B': 'Biru', 'C': 'Biru', 'D': 'Hijau'}\n",
            "{'A': 'Hijau', 'B': 'Biru', 'C': 'Biru', 'D': 'Merah'}\n",
            "{'A': 'Hijau', 'B': 'Biru', 'C': 'Merah', 'D': 'Hijau'}\n",
            "{'A': 'Hijau', 'B': 'Merah', 'C': 'Biru', 'D': 'Hijau'}\n",
            "{'A': 'Hijau', 'B': 'Merah', 'C': 'Merah', 'D': 'Biru'}\n"
          ]
        }
      ]
    },
    {
      "cell_type": "code",
      "source": [
        "import networkx as nx\n",
        "\n",
        "# Buat graf kota dan jalurnya\n",
        "kota = nx.Graph()\n",
        "kota.add_edges_from([\n",
        "    (\"Gudang\", \"A\", {\"jarak\": 5}),\n",
        "    (\"A\", \"B\", {\"jarak\": 7}),\n",
        "    (\"A\", \"C\", {\"jarak\": 3}),\n",
        "    (\"B\", \"D\", {\"jarak\": 4}),\n",
        "    (\"C\", \"D\", {\"jarak\": 2}),\n",
        "    (\"D\", \"Tujuan\", {\"jarak\": 6})\n",
        "])\n",
        "\n",
        "# Cari rute terpendek dari Gudang ke Tujuan\n",
        "rute = nx.shortest_path(kota, source=\"Gudang\", target=\"Tujuan\", weight=\"jarak\")\n",
        "print(\"Rute tercepat:\", \" -> \".join(rute))\n"
      ],
      "metadata": {
        "colab": {
          "base_uri": "https://localhost:8080/"
        },
        "id": "8UdcP9G6JgMH",
        "outputId": "c0da0e28-f658-4082-fdb8-595898739b31"
      },
      "execution_count": 5,
      "outputs": [
        {
          "output_type": "stream",
          "name": "stdout",
          "text": [
            "Rute tercepat: Gudang -> A -> C -> D -> Tujuan\n"
          ]
        }
      ]
    }
  ]
}